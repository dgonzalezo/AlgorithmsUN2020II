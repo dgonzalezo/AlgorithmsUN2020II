{
  "nbformat": 4,
  "nbformat_minor": 0,
  "metadata": {
    "colab": {
      "name": "laboratorio9.ipynb",
      "provenance": []
    },
    "kernelspec": {
      "name": "python3",
      "display_name": "Python 3"
    }
  },
  "cells": [
    {
      "cell_type": "markdown",
      "metadata": {
        "id": "fNlbDCKeNxOG"
      },
      "source": [
        "#LAB 9 Gale-Shapley and Irving Algorithms\n",
        "*   Danier Elian Gonzalez Ordóñez (dgonzalezo@unal.edu.co)\n"
      ]
    },
    {
      "cell_type": "markdown",
      "metadata": {
        "id": "FccOVuX9OGaB"
      },
      "source": [
        "##1.Find the best and worst cases for the Gale-Shapley and Irving ( An Efficient Algorithm for the “Stable Roommates” Problem) Algorithms and run in Colab these algorithms for those cases for n=4 and 40."
      ]
    },
    {
      "cell_type": "markdown",
      "metadata": {
        "id": "LkBmwFNpPEaq"
      },
      "source": [
        "###Theoretically the worst case is defined as O(n)= n(n-1)+1\n",
        "###O(4)=13\n",
        "###O(40)=1561\n",
        "###And the best case is defined as O(n)=n\n",
        "###O(4)=4\n",
        "###O(40)=40"
      ]
    },
    {
      "cell_type": "code",
      "metadata": {
        "id": "moAUyiwLSGE0"
      },
      "source": [
        "import math\n",
        "import pandas as pd\n",
        "import numpy as np\n",
        "from random import shuffle\n",
        "from collections import Counter\n",
        "from copy import copy\n",
        "import matplotlib.pyplot as plt"
      ],
      "execution_count": 34,
      "outputs": []
    },
    {
      "cell_type": "markdown",
      "metadata": {
        "id": "yoXNjmGJQC8W"
      },
      "source": [
        "##Fill worst case preferences"
      ]
    },
    {
      "cell_type": "code",
      "metadata": {
        "id": "KNvxA-NLMjhL"
      },
      "source": [
        "def fillWorstCase(N):\n",
        "  \n",
        "  preferS = []\n",
        "  \n",
        "  # Woman list\n",
        "  preferW = [i+N for i in range(N)]\n",
        "  preferS.append(preferW[:])\n",
        "  for i in range(N-1):\n",
        "    listaux = preferW[1:N-1]\n",
        "    elemaux = preferW[0]\n",
        "    preferW[N-2] = elemaux\n",
        "    preferW[0:N-2] = listaux[:]\n",
        "    preferS.append(preferW[:])\n",
        "\n",
        "  # Man list\n",
        "  preferM = [i for i in range(N)]\n",
        "  for i in range(N):\n",
        "    ax = preferM.pop(0)\n",
        "    preferM.append(ax)\n",
        "    preferS.append(preferM[:])\n",
        "  return preferS"
      ],
      "execution_count": 20,
      "outputs": []
    },
    {
      "cell_type": "markdown",
      "metadata": {
        "id": "GOMp72eQQQQg"
      },
      "source": [
        "##Fill best case preferences"
      ]
    },
    {
      "cell_type": "code",
      "metadata": {
        "id": "ycqfGfKKQZBI"
      },
      "source": [
        "def FillbestCases(N):\n",
        "\n",
        "  preferBS = []\n",
        "\n",
        "  # Woman list\n",
        "  preferW = [i+N for i in range(N)]\n",
        "  for i in range(N):\n",
        "    ax = preferW.pop(0)\n",
        "    preferW.append(ax)\n",
        "    preferBS.append(preferW[:])\n",
        "\n",
        "  # Man list\n",
        "  preferM = [i for i in range(N)]\n",
        "  for i in range(N):\n",
        "    ax = preferM.pop(0)\n",
        "    preferM.append(ax)\n",
        "    preferBS.append(preferM[:]) \n",
        "  return preferBS"
      ],
      "execution_count": 27,
      "outputs": []
    },
    {
      "cell_type": "markdown",
      "metadata": {
        "id": "m1VPPhegQ1B-"
      },
      "source": [
        "##Algorithm\n",
        "Taken from\n",
        "https://www.geeksforgeeks.org/stable-marriage-problem/"
      ]
    },
    {
      "cell_type": "code",
      "metadata": {
        "id": "Hp6OyfG4Q0Uq"
      },
      "source": [
        "def wPrefersM1OverM(prefer, w, m, m1, N): \n",
        "    for i in range(N): \n",
        "        if (prefer[w][i] == m1): \n",
        "            return True\n",
        "  \n",
        "        if (prefer[w][i] == m): \n",
        "            return False\n",
        "def stableMarriage(prefer,N): \n",
        "    wPartner = [-1 for i in range(N)] \n",
        "    mFree = [False for i in range(N)] \n",
        "  \n",
        "    freeCount = N \n",
        "    c=0\n",
        "\n",
        "    while (freeCount > 0): \n",
        "        c=c+1\n",
        "        m = 0\n",
        "        while (m < N): \n",
        "            if (mFree[m] == False): \n",
        "                break\n",
        "            m += 1\n",
        "  \n",
        "        i = 0\n",
        "        while i < N and mFree[m] == False: \n",
        "            w = prefer[m][i] \n",
        "\n",
        "            if (wPartner[w - N] == -1): \n",
        "                wPartner[w - N] = m \n",
        "                mFree[m] = True\n",
        "                freeCount -= 1\n",
        "  \n",
        "            else:  \n",
        "                  \n",
        "                m1 = wPartner[w - N] \n",
        "  \n",
        "                if (wPrefersM1OverM(prefer, w, m, m1,N) == False): \n",
        "                    wPartner[w - N] = m \n",
        "                    mFree[m] = True\n",
        "                    mFree[m1] = False\n",
        "            i += 1\n",
        "  \n",
        "    print(\"Iterations= \", c)\n",
        "    print(\"Woman \", \" Man\") \n",
        "    return c\n",
        "    for i in range(N): \n",
        "        print(i + N, \"\\t\", wPartner[i]) "
      ],
      "execution_count": 49,
      "outputs": []
    },
    {
      "cell_type": "markdown",
      "metadata": {
        "id": "ndtF_p7PS7Hm"
      },
      "source": [
        "###Worst case algorithm with n=4"
      ]
    },
    {
      "cell_type": "code",
      "metadata": {
        "colab": {
          "base_uri": "https://localhost:8080/"
        },
        "id": "Iq9OVUCQSBzg",
        "outputId": "a4c2a1ab-5b36-4634-8a4e-95918f394437"
      },
      "source": [
        "worstCasePrefer=fillWorstCase(4)\n",
        "stableMarriage(worstCasePrefer, 4)"
      ],
      "execution_count": 24,
      "outputs": [
        {
          "output_type": "stream",
          "text": [
            "Iterations=  13\n",
            "Woman   Man\n",
            "4 \t 1\n",
            "5 \t 2\n",
            "6 \t 3\n",
            "7 \t 0\n"
          ],
          "name": "stdout"
        }
      ]
    },
    {
      "cell_type": "markdown",
      "metadata": {
        "id": "Y8rkfJEkTBYu"
      },
      "source": [
        "###Worst case algorithm with n=40"
      ]
    },
    {
      "cell_type": "code",
      "metadata": {
        "colab": {
          "base_uri": "https://localhost:8080/"
        },
        "id": "gpnFO6HVTEPH",
        "outputId": "e50be763-b9d2-43be-ad3e-e961cdb564b0"
      },
      "source": [
        "worstCasePrefer=fillWorstCase(40)\n",
        "stableMarriage(worstCasePrefer, 40)"
      ],
      "execution_count": 25,
      "outputs": [
        {
          "output_type": "stream",
          "text": [
            "Iterations=  1561\n",
            "Woman   Man\n",
            "40 \t 1\n",
            "41 \t 2\n",
            "42 \t 3\n",
            "43 \t 4\n",
            "44 \t 5\n",
            "45 \t 6\n",
            "46 \t 7\n",
            "47 \t 8\n",
            "48 \t 9\n",
            "49 \t 10\n",
            "50 \t 11\n",
            "51 \t 12\n",
            "52 \t 13\n",
            "53 \t 14\n",
            "54 \t 15\n",
            "55 \t 16\n",
            "56 \t 17\n",
            "57 \t 18\n",
            "58 \t 19\n",
            "59 \t 20\n",
            "60 \t 21\n",
            "61 \t 22\n",
            "62 \t 23\n",
            "63 \t 24\n",
            "64 \t 25\n",
            "65 \t 26\n",
            "66 \t 27\n",
            "67 \t 28\n",
            "68 \t 29\n",
            "69 \t 30\n",
            "70 \t 31\n",
            "71 \t 32\n",
            "72 \t 33\n",
            "73 \t 34\n",
            "74 \t 35\n",
            "75 \t 36\n",
            "76 \t 37\n",
            "77 \t 38\n",
            "78 \t 39\n",
            "79 \t 0\n"
          ],
          "name": "stdout"
        }
      ]
    },
    {
      "cell_type": "markdown",
      "metadata": {
        "id": "_gROFDLBYvhI"
      },
      "source": [
        "###Best case algorithm with n=4"
      ]
    },
    {
      "cell_type": "code",
      "metadata": {
        "colab": {
          "base_uri": "https://localhost:8080/"
        },
        "id": "w_NyTTI-YuhV",
        "outputId": "c348baf1-3bba-41bb-a29c-828ab3131d58"
      },
      "source": [
        "bestCasePrefer=FillbestCases(4)\n",
        "stableMarriage(bestCasePrefer, 4)"
      ],
      "execution_count": 29,
      "outputs": [
        {
          "output_type": "stream",
          "text": [
            "Iterations=  4\n",
            "Woman   Man\n",
            "4 \t 3\n",
            "5 \t 0\n",
            "6 \t 1\n",
            "7 \t 2\n"
          ],
          "name": "stdout"
        }
      ]
    },
    {
      "cell_type": "markdown",
      "metadata": {
        "id": "ErnqwWNgZuno"
      },
      "source": [
        "###Best case algorithm with n=40"
      ]
    },
    {
      "cell_type": "code",
      "metadata": {
        "colab": {
          "base_uri": "https://localhost:8080/"
        },
        "id": "guwfoS-WZwSe",
        "outputId": "815518e6-64c8-4cbb-df54-27378bb2f95f"
      },
      "source": [
        "bestCasePrefer=FillbestCases(40)\n",
        "stableMarriage(bestCasePrefer, 40)"
      ],
      "execution_count": 30,
      "outputs": [
        {
          "output_type": "stream",
          "text": [
            "Iterations=  40\n",
            "Woman   Man\n",
            "40 \t 39\n",
            "41 \t 0\n",
            "42 \t 1\n",
            "43 \t 2\n",
            "44 \t 3\n",
            "45 \t 4\n",
            "46 \t 5\n",
            "47 \t 6\n",
            "48 \t 7\n",
            "49 \t 8\n",
            "50 \t 9\n",
            "51 \t 10\n",
            "52 \t 11\n",
            "53 \t 12\n",
            "54 \t 13\n",
            "55 \t 14\n",
            "56 \t 15\n",
            "57 \t 16\n",
            "58 \t 17\n",
            "59 \t 18\n",
            "60 \t 19\n",
            "61 \t 20\n",
            "62 \t 21\n",
            "63 \t 22\n",
            "64 \t 23\n",
            "65 \t 24\n",
            "66 \t 25\n",
            "67 \t 26\n",
            "68 \t 27\n",
            "69 \t 28\n",
            "70 \t 29\n",
            "71 \t 30\n",
            "72 \t 31\n",
            "73 \t 32\n",
            "74 \t 33\n",
            "75 \t 34\n",
            "76 \t 35\n",
            "77 \t 36\n",
            "78 \t 37\n",
            "79 \t 38\n"
          ],
          "name": "stdout"
        }
      ]
    },
    {
      "cell_type": "markdown",
      "metadata": {
        "id": "tbVyEpi3ag7z"
      },
      "source": [
        "#2.Run the Gale-Shapley Algorithm 100 times using random permutations as preference lists for n=4 and 40. Find the minimum, maximum and average number of iterations and plot the distribution of the number of iterations."
      ]
    },
    {
      "cell_type": "code",
      "metadata": {
        "id": "ICCKurrPbgrd"
      },
      "source": [
        "def randomAlgorithm(N):\n",
        "  hist=[]\n",
        "  for i in range(100):\n",
        "    list=[]\n",
        "    Mprefer=[i for i in range(N)]\n",
        "    M = Mprefer[:]\n",
        "    Wprefer = [i+N for i in range(N)]\n",
        "    W = Wprefer[:]\n",
        "    for j in range(N):\n",
        "      shuffle(W)\n",
        "      list.append(W[:])\n",
        "    for l in range(N):\n",
        "      shuffle(M)\n",
        "      list.append(M[:])\n",
        "    k=stableMarriage(list,N)\n",
        "    hist.append(k)\n",
        "  print(\"Minimun number of iterations: {}\".format(min(hist)))\n",
        "  print(\"Maximun number of iterations: {}\".format(max(hist)))\n",
        "  print(\"Average number of iterations: {}\".format(sum(hist)/100))\n",
        "\n",
        "  t = \"Distribution of the number of iterations with N=\" + str(N)\n",
        "\n",
        "  histogram = pd.DataFrame(hist).hist()\n",
        "  plt.title(t)\n",
        "  plt.xlabel(\"iterations\")\n",
        "  plt.ylabel(\"times\")\n",
        "  plt.show()"
      ],
      "execution_count": 54,
      "outputs": []
    },
    {
      "cell_type": "markdown",
      "metadata": {
        "id": "g_mfTeJUasXe"
      },
      "source": [
        "##n=4"
      ]
    },
    {
      "cell_type": "code",
      "metadata": {
        "colab": {
          "base_uri": "https://localhost:8080/",
          "height": 1000
        },
        "id": "yI1JTnWbiWpU",
        "outputId": "d58f6f3b-b4b8-4379-9a7c-a9ed546e9313"
      },
      "source": [
        "randomAlgorithm(4)"
      ],
      "execution_count": 59,
      "outputs": [
        {
          "output_type": "stream",
          "text": [
            "Iterations=  5\n",
            "Woman   Man\n",
            "Iterations=  5\n",
            "Woman   Man\n",
            "Iterations=  5\n",
            "Woman   Man\n",
            "Iterations=  4\n",
            "Woman   Man\n",
            "Iterations=  7\n",
            "Woman   Man\n",
            "Iterations=  4\n",
            "Woman   Man\n",
            "Iterations=  4\n",
            "Woman   Man\n",
            "Iterations=  5\n",
            "Woman   Man\n",
            "Iterations=  5\n",
            "Woman   Man\n",
            "Iterations=  7\n",
            "Woman   Man\n",
            "Iterations=  5\n",
            "Woman   Man\n",
            "Iterations=  4\n",
            "Woman   Man\n",
            "Iterations=  4\n",
            "Woman   Man\n",
            "Iterations=  5\n",
            "Woman   Man\n",
            "Iterations=  6\n",
            "Woman   Man\n",
            "Iterations=  4\n",
            "Woman   Man\n",
            "Iterations=  4\n",
            "Woman   Man\n",
            "Iterations=  4\n",
            "Woman   Man\n",
            "Iterations=  6\n",
            "Woman   Man\n",
            "Iterations=  4\n",
            "Woman   Man\n",
            "Iterations=  4\n",
            "Woman   Man\n",
            "Iterations=  6\n",
            "Woman   Man\n",
            "Iterations=  5\n",
            "Woman   Man\n",
            "Iterations=  4\n",
            "Woman   Man\n",
            "Iterations=  5\n",
            "Woman   Man\n",
            "Iterations=  6\n",
            "Woman   Man\n",
            "Iterations=  4\n",
            "Woman   Man\n",
            "Iterations=  4\n",
            "Woman   Man\n",
            "Iterations=  5\n",
            "Woman   Man\n",
            "Iterations=  5\n",
            "Woman   Man\n",
            "Iterations=  5\n",
            "Woman   Man\n",
            "Iterations=  5\n",
            "Woman   Man\n",
            "Iterations=  4\n",
            "Woman   Man\n",
            "Iterations=  6\n",
            "Woman   Man\n",
            "Iterations=  5\n",
            "Woman   Man\n",
            "Iterations=  4\n",
            "Woman   Man\n",
            "Iterations=  5\n",
            "Woman   Man\n",
            "Iterations=  4\n",
            "Woman   Man\n",
            "Iterations=  6\n",
            "Woman   Man\n",
            "Iterations=  5\n",
            "Woman   Man\n",
            "Iterations=  5\n",
            "Woman   Man\n",
            "Iterations=  5\n",
            "Woman   Man\n",
            "Iterations=  4\n",
            "Woman   Man\n",
            "Iterations=  7\n",
            "Woman   Man\n",
            "Iterations=  4\n",
            "Woman   Man\n",
            "Iterations=  7\n",
            "Woman   Man\n",
            "Iterations=  5\n",
            "Woman   Man\n",
            "Iterations=  7\n",
            "Woman   Man\n",
            "Iterations=  4\n",
            "Woman   Man\n",
            "Iterations=  5\n",
            "Woman   Man\n",
            "Iterations=  5\n",
            "Woman   Man\n",
            "Iterations=  4\n",
            "Woman   Man\n",
            "Iterations=  4\n",
            "Woman   Man\n",
            "Iterations=  5\n",
            "Woman   Man\n",
            "Iterations=  5\n",
            "Woman   Man\n",
            "Iterations=  4\n",
            "Woman   Man\n",
            "Iterations=  4\n",
            "Woman   Man\n",
            "Iterations=  6\n",
            "Woman   Man\n",
            "Iterations=  5\n",
            "Woman   Man\n",
            "Iterations=  5\n",
            "Woman   Man\n",
            "Iterations=  6\n",
            "Woman   Man\n",
            "Iterations=  4\n",
            "Woman   Man\n",
            "Iterations=  6\n",
            "Woman   Man\n",
            "Iterations=  5\n",
            "Woman   Man\n",
            "Iterations=  5\n",
            "Woman   Man\n",
            "Iterations=  6\n",
            "Woman   Man\n",
            "Iterations=  4\n",
            "Woman   Man\n",
            "Iterations=  6\n",
            "Woman   Man\n",
            "Iterations=  4\n",
            "Woman   Man\n",
            "Iterations=  6\n",
            "Woman   Man\n",
            "Iterations=  6\n",
            "Woman   Man\n",
            "Iterations=  4\n",
            "Woman   Man\n",
            "Iterations=  8\n",
            "Woman   Man\n",
            "Iterations=  4\n",
            "Woman   Man\n",
            "Iterations=  6\n",
            "Woman   Man\n",
            "Iterations=  5\n",
            "Woman   Man\n",
            "Iterations=  5\n",
            "Woman   Man\n",
            "Iterations=  5\n",
            "Woman   Man\n",
            "Iterations=  4\n",
            "Woman   Man\n",
            "Iterations=  5\n",
            "Woman   Man\n",
            "Iterations=  5\n",
            "Woman   Man\n",
            "Iterations=  4\n",
            "Woman   Man\n",
            "Iterations=  4\n",
            "Woman   Man\n",
            "Iterations=  5\n",
            "Woman   Man\n",
            "Iterations=  4\n",
            "Woman   Man\n",
            "Iterations=  5\n",
            "Woman   Man\n",
            "Iterations=  4\n",
            "Woman   Man\n",
            "Iterations=  4\n",
            "Woman   Man\n",
            "Iterations=  5\n",
            "Woman   Man\n",
            "Iterations=  5\n",
            "Woman   Man\n",
            "Iterations=  6\n",
            "Woman   Man\n",
            "Iterations=  4\n",
            "Woman   Man\n",
            "Iterations=  6\n",
            "Woman   Man\n",
            "Iterations=  4\n",
            "Woman   Man\n",
            "Iterations=  4\n",
            "Woman   Man\n",
            "Iterations=  5\n",
            "Woman   Man\n",
            "Iterations=  8\n",
            "Woman   Man\n",
            "Iterations=  4\n",
            "Woman   Man\n",
            "Iterations=  4\n",
            "Woman   Man\n",
            "Iterations=  5\n",
            "Woman   Man\n",
            "Minimun number of iterations: 4\n",
            "Maximun number of iterations: 8\n",
            "Average number of iterations: 4.93\n"
          ],
          "name": "stdout"
        },
        {
          "output_type": "display_data",
          "data": {
            "image/png": "[encoded data removed]",
            "text/plain": [
              "<Figure size 432x288 with 1 Axes>"
            ]
          },
          "metadata": {
            "tags": [],
            "needs_background": "light"
          }
        }
      ]
    },
    {
      "cell_type": "markdown",
      "metadata": {
        "id": "t9koqdjLlUd6"
      },
      "source": [
        "##n=40"
      ]
    },
    {
      "cell_type": "code",
      "metadata": {
        "colab": {
          "base_uri": "https://localhost:8080/",
          "height": 1000
        },
        "id": "Fr3nSUsPlX2Z",
        "outputId": "4f5892c7-1212-4b79-adb6-c5a63e697a64"
      },
      "source": [
        "randomAlgorithm(40)"
      ],
      "execution_count": 58,
      "outputs": [
        {
          "output_type": "stream",
          "text": [
            "Iterations=  77\n",
            "Woman   Man\n",
            "Iterations=  79\n",
            "Woman   Man\n",
            "Iterations=  94\n",
            "Woman   Man\n",
            "Iterations=  64\n",
            "Woman   Man\n",
            "Iterations=  80\n",
            "Woman   Man\n",
            "Iterations=  57\n",
            "Woman   Man\n",
            "Iterations=  91\n",
            "Woman   Man\n",
            "Iterations=  84\n",
            "Woman   Man\n",
            "Iterations=  81\n",
            "Woman   Man\n",
            "Iterations=  78\n",
            "Woman   Man\n",
            "Iterations=  75\n",
            "Woman   Man\n",
            "Iterations=  80\n",
            "Woman   Man\n",
            "Iterations=  70\n",
            "Woman   Man\n",
            "Iterations=  71\n",
            "Woman   Man\n",
            "Iterations=  91\n",
            "Woman   Man\n",
            "Iterations=  75\n",
            "Woman   Man\n",
            "Iterations=  98\n",
            "Woman   Man\n",
            "Iterations=  79\n",
            "Woman   Man\n",
            "Iterations=  67\n",
            "Woman   Man\n",
            "Iterations=  68\n",
            "Woman   Man\n",
            "Iterations=  80\n",
            "Woman   Man\n",
            "Iterations=  79\n",
            "Woman   Man\n",
            "Iterations=  78\n",
            "Woman   Man\n",
            "Iterations=  63\n",
            "Woman   Man\n",
            "Iterations=  57\n",
            "Woman   Man\n",
            "Iterations=  65\n",
            "Woman   Man\n",
            "Iterations=  71\n",
            "Woman   Man\n",
            "Iterations=  64\n",
            "Woman   Man\n",
            "Iterations=  83\n",
            "Woman   Man\n",
            "Iterations=  87\n",
            "Woman   Man\n",
            "Iterations=  103\n",
            "Woman   Man\n",
            "Iterations=  88\n",
            "Woman   Man\n",
            "Iterations=  67\n",
            "Woman   Man\n",
            "Iterations=  91\n",
            "Woman   Man\n",
            "Iterations=  76\n",
            "Woman   Man\n",
            "Iterations=  74\n",
            "Woman   Man\n",
            "Iterations=  79\n",
            "Woman   Man\n",
            "Iterations=  80\n",
            "Woman   Man\n",
            "Iterations=  83\n",
            "Woman   Man\n",
            "Iterations=  80\n",
            "Woman   Man\n",
            "Iterations=  91\n",
            "Woman   Man\n",
            "Iterations=  94\n",
            "Woman   Man\n",
            "Iterations=  66\n",
            "Woman   Man\n",
            "Iterations=  82\n",
            "Woman   Man\n",
            "Iterations=  88\n",
            "Woman   Man\n",
            "Iterations=  71\n",
            "Woman   Man\n",
            "Iterations=  84\n",
            "Woman   Man\n",
            "Iterations=  66\n",
            "Woman   Man\n",
            "Iterations=  73\n",
            "Woman   Man\n",
            "Iterations=  72\n",
            "Woman   Man\n",
            "Iterations=  94\n",
            "Woman   Man\n",
            "Iterations=  84\n",
            "Woman   Man\n",
            "Iterations=  98\n",
            "Woman   Man\n",
            "Iterations=  65\n",
            "Woman   Man\n",
            "Iterations=  77\n",
            "Woman   Man\n",
            "Iterations=  76\n",
            "Woman   Man\n",
            "Iterations=  76\n",
            "Woman   Man\n",
            "Iterations=  91\n",
            "Woman   Man\n",
            "Iterations=  81\n",
            "Woman   Man\n",
            "Iterations=  82\n",
            "Woman   Man\n",
            "Iterations=  88\n",
            "Woman   Man\n",
            "Iterations=  87\n",
            "Woman   Man\n",
            "Iterations=  68\n",
            "Woman   Man\n",
            "Iterations=  74\n",
            "Woman   Man\n",
            "Iterations=  82\n",
            "Woman   Man\n",
            "Iterations=  61\n",
            "Woman   Man\n",
            "Iterations=  86\n",
            "Woman   Man\n",
            "Iterations=  83\n",
            "Woman   Man\n",
            "Iterations=  81\n",
            "Woman   Man\n",
            "Iterations=  77\n",
            "Woman   Man\n",
            "Iterations=  76\n",
            "Woman   Man\n",
            "Iterations=  72\n",
            "Woman   Man\n",
            "Iterations=  81\n",
            "Woman   Man\n",
            "Iterations=  67\n",
            "Woman   Man\n",
            "Iterations=  79\n",
            "Woman   Man\n",
            "Iterations=  76\n",
            "Woman   Man\n",
            "Iterations=  70\n",
            "Woman   Man\n",
            "Iterations=  71\n",
            "Woman   Man\n",
            "Iterations=  91\n",
            "Woman   Man\n",
            "Iterations=  98\n",
            "Woman   Man\n",
            "Iterations=  83\n",
            "Woman   Man\n",
            "Iterations=  73\n",
            "Woman   Man\n",
            "Iterations=  76\n",
            "Woman   Man\n",
            "Iterations=  96\n",
            "Woman   Man\n",
            "Iterations=  73\n",
            "Woman   Man\n",
            "Iterations=  85\n",
            "Woman   Man\n",
            "Iterations=  58\n",
            "Woman   Man\n",
            "Iterations=  68\n",
            "Woman   Man\n",
            "Iterations=  73\n",
            "Woman   Man\n",
            "Iterations=  65\n",
            "Woman   Man\n",
            "Iterations=  82\n",
            "Woman   Man\n",
            "Iterations=  110\n",
            "Woman   Man\n",
            "Iterations=  64\n",
            "Woman   Man\n",
            "Iterations=  76\n",
            "Woman   Man\n",
            "Iterations=  73\n",
            "Woman   Man\n",
            "Iterations=  81\n",
            "Woman   Man\n",
            "Iterations=  74\n",
            "Woman   Man\n",
            "Iterations=  71\n",
            "Woman   Man\n",
            "Iterations=  64\n",
            "Woman   Man\n",
            "Iterations=  88\n",
            "Woman   Man\n",
            "Minimun number of iterations: 57\n",
            "Maximun number of iterations: 110\n",
            "Average number of iterations: 78.19\n"
          ],
          "name": "stdout"
        },
        {
          "output_type": "display_data",
          "data": {
            "image/png": "[encoded data removed]",
            "text/plain": [
              "<Figure size 432x288 with 1 Axes>"
            ]
          },
          "metadata": {
            "tags": [],
            "needs_background": "light"
          }
        }
      ]
    }
  ]
}